{
 "cells": [
  {
   "cell_type": "markdown",
   "id": "dce9a940",
   "metadata": {},
   "source": [
    "## Final Project Part 3"
   ]
  },
  {
   "cell_type": "markdown",
   "id": "12a4a952",
   "metadata": {},
   "source": [
    "<b>Syeda Rija Zaineb</b>"
   ]
  },
  {
   "cell_type": "code",
   "execution_count": null,
   "id": "35380f53",
   "metadata": {},
   "outputs": [],
   "source": [
    "myJekyllSaveDir = '/Users/rijaz/szaineb.github.io/assets/json/'"
   ]
  },
  {
   "cell_type": "code",
   "execution_count": null,
   "id": "d22e2324",
   "metadata": {},
   "outputs": [],
   "source": [
    "import altair as alt\n",
    "import requests\n",
    "import pandas as pd\n",
    "import geopandas\n",
    "import json"
   ]
  },
  {
   "cell_type": "code",
   "execution_count": null,
   "id": "33f307e3",
   "metadata": {},
   "outputs": [],
   "source": [
    "#reading police precincts data\n",
    "nyPolice = geopandas.read_file(\"https://raw.githubusercontent.com/szaineb/szaineb.github.io/master/data/Police_Precincts.geojson\")"
   ]
  },
  {
   "cell_type": "code",
   "execution_count": null,
   "id": "cb35c4d4",
   "metadata": {},
   "outputs": [],
   "source": [
    "# nyPolice"
   ]
  },
  {
   "cell_type": "code",
   "execution_count": null,
   "id": "a147aaf0",
   "metadata": {},
   "outputs": [],
   "source": [
    "#reading crimes data\n",
    "crimes = pd.read_csv(\"https://raw.githubusercontent.com/szaineb/szaineb.github.io/master/data/NYPD%20Hate%20Crimes.csv\")"
   ]
  },
  {
   "cell_type": "code",
   "execution_count": null,
   "id": "f6ed0a22",
   "metadata": {},
   "outputs": [],
   "source": [
    "# crimes"
   ]
  },
  {
   "cell_type": "code",
   "execution_count": null,
   "id": "6f839a7e",
   "metadata": {},
   "outputs": [],
   "source": [
    "#had to do this to make line 13 work\n",
    "nyPolice['precinct']=nyPolice['precinct'].astype(int)\n",
    "crimes['Complaint Precinct Code']=crimes['Complaint Precinct Code'].astype(int)"
   ]
  },
  {
   "cell_type": "code",
   "execution_count": null,
   "id": "3d634da8",
   "metadata": {},
   "outputs": [],
   "source": [
    "#merging precinct and crimes data on precinct\n",
    "mergedRes = pd.merge(crimes, nyPolice, how='left', left_on =['Complaint Precinct Code'], right_on=['precinct'])"
   ]
  },
  {
   "cell_type": "code",
   "execution_count": null,
   "id": "d8f8b702",
   "metadata": {},
   "outputs": [],
   "source": [
    "#dropped extra precinct column\n",
    "mergedRes=mergedRes.drop(columns = 'Complaint Precinct Code')"
   ]
  },
  {
   "cell_type": "code",
   "execution_count": null,
   "id": "2fe7f044",
   "metadata": {},
   "outputs": [],
   "source": [
    "#converting dataframe to geodataframe\n",
    "mergedGeo = geopandas.GeoDataFrame(mergedRes)"
   ]
  },
  {
   "cell_type": "code",
   "execution_count": null,
   "id": "a18b1ea5",
   "metadata": {},
   "outputs": [],
   "source": [
    "#adding complaint count column in dataframe\n",
    "mergedGeo[\"complaint_count_precinct\"] = mergedGeo.groupby(['precinct', 'Complaint Year Number'])['Full Complaint ID'].transform('count')"
   ]
  },
  {
   "cell_type": "code",
   "execution_count": null,
   "id": "7f6a270c",
   "metadata": {},
   "outputs": [],
   "source": [
    "# mergedGeo.groupby('Offense Description')['Full Complaint ID'].count()"
   ]
  },
  {
   "cell_type": "code",
   "execution_count": null,
   "id": "9294da7f",
   "metadata": {},
   "outputs": [],
   "source": [
    "mergedGeo2021 = mergedGeo[mergedGeo[\"Complaint Year Number\"] == 2021]"
   ]
  },
  {
   "cell_type": "code",
   "execution_count": null,
   "id": "1592f877",
   "metadata": {},
   "outputs": [],
   "source": [
    "mergedGeo2021 = mergedGeo2021.rename(columns = {'Bias Motive Description':'Bias_Motive_Description'})"
   ]
  },
  {
   "cell_type": "code",
   "execution_count": null,
   "id": "97acc62f",
   "metadata": {
    "scrolled": true
   },
   "outputs": [],
   "source": [
    "# mergedGeo2021"
   ]
  },
  {
   "cell_type": "code",
   "execution_count": null,
   "id": "15beb1fe",
   "metadata": {},
   "outputs": [],
   "source": [
    "# mergedGeo2021['Patrol Borough Name'].unique()"
   ]
  },
  {
   "cell_type": "code",
   "execution_count": null,
   "id": "9acc4556",
   "metadata": {},
   "outputs": [],
   "source": [
    "mergedGeo2021.replace(\"PATROL BORO MAN SOUTH\", \n",
    "           \"Manhattan South\", \n",
    "           inplace=True)\n",
    "\n",
    "mergedGeo2021.replace(\"PATROL BORO MAN NORTH\", \n",
    "           \"Manhattan North\", \n",
    "           inplace=True)\n",
    "\n",
    "mergedGeo2021.replace(\"PATROL BORO BRONX\", \n",
    "           \"Bronx\", \n",
    "           inplace=True)\n",
    "\n",
    "mergedGeo2021.replace(\"PATROL BORO BKLYN SOUTH\", \n",
    "           \"Brooklyn South\", \n",
    "           inplace=True)\n",
    "\n",
    "mergedGeo2021.replace(\"PATROL BORO BKLYN NORTH\", \n",
    "           \"Brooklyn North\", \n",
    "           inplace=True)\n",
    "\n",
    "mergedGeo2021.replace(\"PATROL BORO QUEENS SOUTH\", \n",
    "           \"Queens South\", \n",
    "           inplace=True)\n",
    "\n",
    "mergedGeo2021.replace(\"PATROL BORO QUEENS NORTH\", \n",
    "           \"Queens North\", \n",
    "           inplace=True)\n",
    "\n",
    "mergedGeo2021.replace(\"PATROL BORO STATEN ISLAND\", \n",
    "           \"Staten Island\", \n",
    "           inplace=True)"
   ]
  },
  {
   "cell_type": "code",
   "execution_count": null,
   "id": "11696153",
   "metadata": {},
   "outputs": [],
   "source": [
    "# mergedGeo2021['Patrol Borough Name'].unique()"
   ]
  },
  {
   "cell_type": "code",
   "execution_count": null,
   "id": "031cffff",
   "metadata": {
    "scrolled": true
   },
   "outputs": [],
   "source": [
    "mergedGeo2021['Patrol Borough Name'] = mergedGeo2021['Patrol Borough Name'].str.upper()"
   ]
  },
  {
   "cell_type": "code",
   "execution_count": null,
   "id": "0856e1d0",
   "metadata": {},
   "outputs": [],
   "source": [
    "# mergedGeo2021['Patrol Borough Name'].unique()"
   ]
  },
  {
   "cell_type": "markdown",
   "id": "6ff63144",
   "metadata": {},
   "source": [
    "<b>First NYC Bar Chart</b>"
   ]
  },
  {
   "cell_type": "code",
   "execution_count": null,
   "id": "1d88a941",
   "metadata": {},
   "outputs": [],
   "source": [
    "bar_base = alt.Chart(mergedGeo2021).mark_bar().encode(\n",
    "    x=alt.X('count:Q', axis=None),\n",
    "    y=alt.Y('Bias_Motive_Description:N',\n",
    "        sort=alt.EncodingSortField(field='count', order='descending', op='sum'), axis=alt.Axis(title=None)\n",
    "    ),\n",
    "    tooltip=alt.Tooltip('count:Q')\n",
    ").transform_aggregate(\n",
    "    count='count()',\n",
    "    groupby=['Bias_Motive_Description']\n",
    ").transform_window(\n",
    "    window=[{'op': 'rank', 'as': 'rank'}],\n",
    "    sort=[{'field': 'count', 'order': 'descending'}]\n",
    ").transform_filter('datum.rank <= 5'\n",
    ").properties(title=\"Top 5 Bias Motivations behind Hate Crimes in New York City\", width=600, height=100)\n",
    "\n",
    "color_bar = bar_base.mark_bar().encode(\n",
    "    color=alt.Color('Complaint Year Number:O', scale=alt.Scale(scheme='reds'),legend=None),\n",
    "    opacity=alt.value(0.7)\n",
    ")\n",
    "\n",
    "bar_label = bar_base.mark_text(\n",
    "    align='right',\n",
    "    baseline='middle',\n",
    "    dx=20,\n",
    ").encode(\n",
    "    text='count:Q'\n",
    ")\n",
    "\n",
    "bar_bias_ny = color_bar + bar_label"
   ]
  },
  {
   "cell_type": "code",
   "execution_count": null,
   "id": "0410d8ef",
   "metadata": {},
   "outputs": [],
   "source": [
    "bar_bias_ny"
   ]
  },
  {
   "cell_type": "code",
   "execution_count": null,
   "id": "5cdf3050",
   "metadata": {},
   "outputs": [],
   "source": [
    "bar_bias_ny.save(myJekyllSaveDir+'NYPD_Bias_Motives_Top5.json')"
   ]
  },
  {
   "cell_type": "markdown",
   "id": "2012420e",
   "metadata": {},
   "source": [
    "<b>Second NYC Bar Chart</b>"
   ]
  },
  {
   "cell_type": "code",
   "execution_count": null,
   "id": "bf5b4bf8",
   "metadata": {},
   "outputs": [],
   "source": [
    "bar_base_ny_boroughs = alt.Chart(mergedGeo2021).mark_bar().encode(\n",
    "    x=alt.X('count:Q', axis=None),\n",
    "    y=alt.Y('Patrol Borough Name:N',\n",
    "        sort=alt.EncodingSortField(field='count', order='descending', op='sum'), axis=alt.Axis(title=None)\n",
    "    ),\n",
    "    tooltip=alt.Tooltip('count:Q')\n",
    ").transform_aggregate(\n",
    "    count='count()',\n",
    "    groupby=['Patrol Borough Name']\n",
    ").transform_window(\n",
    "    window=[{'op': 'rank', 'as': 'rank'}],\n",
    "    sort=[{'field': 'count', 'order': 'descending'}]\n",
    ").properties(title=\"NYPD Patrol Boroughs by Count of Hate Crimes\", width=550, height=200)\n",
    "\n",
    "color_bar_ny_boroughs = bar_base_ny_boroughs.mark_bar().encode(\n",
    "    color=alt.Color('Complaint Year Number:O', scale=alt.Scale(scheme='reds', reverse=True),legend=None),\n",
    "    opacity=alt.value(0.7)\n",
    ")\n",
    "\n",
    "bar_label_ny_boroughs = bar_base_ny_boroughs.mark_text(\n",
    "    align='right',\n",
    "    baseline='middle',\n",
    "    dx=20,\n",
    ").encode(\n",
    "    text='count:Q'\n",
    ")\n",
    "\n",
    "bar_crimes_ny_boroughs = color_bar_ny_boroughs + bar_label_ny_boroughs"
   ]
  },
  {
   "cell_type": "code",
   "execution_count": null,
   "id": "c5ae0122",
   "metadata": {},
   "outputs": [],
   "source": [
    "bar_crimes_ny_boroughs"
   ]
  },
  {
   "cell_type": "code",
   "execution_count": null,
   "id": "145d3475",
   "metadata": {},
   "outputs": [],
   "source": [
    "bar_crimes_ny_boroughs.save(myJekyllSaveDir+'NYPD_Patrol_Boroughs.json')"
   ]
  },
  {
   "cell_type": "markdown",
   "id": "88cf9bde",
   "metadata": {},
   "source": [
    "<b>NYC Dashboard - Main Interactive Visualization</b>"
   ]
  },
  {
   "cell_type": "code",
   "execution_count": null,
   "id": "d6276c55",
   "metadata": {},
   "outputs": [],
   "source": [
    "## Precinct Map\n",
    "\n",
    "multi = alt.selection_multi(fields=['complaint_count_precinct', 'precinct'], bind='legend')\n",
    "color = alt.condition(multi,\n",
    "                  alt.Color('complaint_count_precinct',type='quantitative',bin=alt.Bin(step=5), legend={'direction':\"horizontal\", 'orient':\"top-left\"},\n",
    "                  scale=alt.Scale(scheme='yelloworangered'), title='Complaint Count'),\n",
    "                  alt.value('lightgray'))\n",
    "\n",
    "# map\n",
    "precinct_map = alt.Chart(mergedGeo2021, title = 'Hate Crime Complaint Filings in New York by Precincts').mark_geoshape(\n",
    "    stroke='black',\n",
    "    strokeWidth=1\n",
    ").encode(\n",
    "    color=color,\n",
    "    tooltip=[alt.Tooltip('precinct', title='Precinct'),alt.Tooltip('Patrol Borough Name', title ='Patrol Borough'),alt.Tooltip('complaint_count_precinct', title =\"No. of complaints\")]\n",
    ").properties(\n",
    "    height=500\n",
    ").add_selection(\n",
    "    multi\n",
    ")\n",
    "\n",
    "# precinct_map"
   ]
  },
  {
   "cell_type": "code",
   "execution_count": null,
   "id": "03c64a79",
   "metadata": {},
   "outputs": [],
   "source": [
    "## Bar Chart\n",
    "\n",
    "hist_base = alt.Chart(mergedGeo2021, title = 'Hate Crime Complaint Filings in NYC by Bias Motivation').encode(\n",
    "    alt.X(\"Bias_Motive_Description:N\",axis=alt.Axis(title=None, labelLimit=200)),\n",
    "    alt.Y(\"count()\", scale=alt.Scale(domain=[0,220]), axis=alt.Axis(title='No. of Complaints')),\n",
    "#     alt.Tooltip(\"count()\")\n",
    ").transform_filter(\n",
    "    multi\n",
    ")\n",
    "\n",
    "hist = hist_base.mark_bar().encode(\n",
    "    color=alt.Color('Complaint Year Number:O', scale=alt.Scale(scheme='goldred'),legend=None)\n",
    ")\n",
    "\n",
    "text_mark = hist_base.mark_text(\n",
    "    align='center',\n",
    "    baseline='middle',\n",
    "    dy=-5,\n",
    ").encode(\n",
    "    text='count()'\n",
    ")\n",
    "\n",
    "motive_hist = hist + text_mark"
   ]
  },
  {
   "cell_type": "code",
   "execution_count": null,
   "id": "8a5fa672",
   "metadata": {
    "scrolled": false
   },
   "outputs": [],
   "source": [
    "dashboard = precinct_map.properties(width=400) | motive_hist.properties(width=400)\n",
    "dashboard"
   ]
  },
  {
   "cell_type": "code",
   "execution_count": null,
   "id": "a50f7d6a",
   "metadata": {},
   "outputs": [],
   "source": [
    "dashboard.save(myJekyllSaveDir+'NYPD_hate_crime_dashboard.json')"
   ]
  },
  {
   "cell_type": "markdown",
   "id": "731d22cb",
   "metadata": {},
   "source": [
    "<b>Contextual Visualizations - Chicago Hate Crimes</b>"
   ]
  },
  {
   "cell_type": "code",
   "execution_count": null,
   "id": "7b8c820e",
   "metadata": {},
   "outputs": [],
   "source": [
    "chicago_crimes = pd.read_csv(\"https://raw.githubusercontent.com/szaineb/szaineb.github.io/master/data/ChicagoData.csv\")"
   ]
  },
  {
   "cell_type": "code",
   "execution_count": null,
   "id": "41ef4e59",
   "metadata": {},
   "outputs": [],
   "source": [
    "chicago_crimes"
   ]
  },
  {
   "cell_type": "code",
   "execution_count": null,
   "id": "3f545f1f",
   "metadata": {},
   "outputs": [],
   "source": [
    "chicago_crimes['Year'] = pd.to_datetime(chicago_crimes['DATE']).dt.year"
   ]
  },
  {
   "cell_type": "code",
   "execution_count": null,
   "id": "60ccc901",
   "metadata": {},
   "outputs": [],
   "source": [
    "# chicago_crimes['Year']"
   ]
  },
  {
   "cell_type": "code",
   "execution_count": null,
   "id": "a3cd8ee6",
   "metadata": {},
   "outputs": [],
   "source": [
    "chicago_crimes_2021 = chicago_crimes[chicago_crimes['Year'] == 2021]"
   ]
  },
  {
   "cell_type": "code",
   "execution_count": null,
   "id": "90d20d1a",
   "metadata": {},
   "outputs": [],
   "source": [
    "# chicago_crimes_2021.groupby('Community').count()"
   ]
  },
  {
   "cell_type": "markdown",
   "id": "d74d3664",
   "metadata": {},
   "source": [
    "<b>Top 5 Bias Motives in Chicago 2021</b>"
   ]
  },
  {
   "cell_type": "code",
   "execution_count": null,
   "id": "cb8f418e",
   "metadata": {},
   "outputs": [],
   "source": [
    "bar_base_chicago = alt.Chart(chicago_crimes_2021).mark_bar().encode(\n",
    "    x=alt.X('count:Q', axis=None),\n",
    "    y=alt.Y('Motivation:N',\n",
    "        sort=alt.EncodingSortField(field='count', order='descending', op='sum'), axis=alt.Axis(title=None)\n",
    "    ),\n",
    "    tooltip=alt.Tooltip('count:Q')\n",
    ").transform_aggregate(\n",
    "    count='count()',\n",
    "    groupby=['Motivation']\n",
    ").transform_window(\n",
    "    window=[{'op': 'rank', 'as': 'rank'}],\n",
    "    sort=[{'field': 'count', 'order': 'descending'}]\n",
    ").transform_filter('datum.rank <= 5'\n",
    ").properties(title=\"Top 5 Motives behind Hate Crimes in Chicago\", width=550, height=100)\n",
    "\n",
    "color_bar_chicago = bar_base_chicago.mark_bar().encode(\n",
    "    color=alt.Color('Complaint Year Number:O', scale=alt.Scale(scheme='teals'),legend=None),\n",
    "    opacity=alt.value(0.7)\n",
    ")\n",
    "\n",
    "bar_label_chicago = bar_base_chicago.mark_text(\n",
    "    align='right',\n",
    "    baseline='middle',\n",
    "    dx=18,\n",
    ").encode(\n",
    "    text='count:Q'\n",
    ")\n",
    "\n",
    "bar_bias_chicago = color_bar_chicago + bar_label_chicago"
   ]
  },
  {
   "cell_type": "code",
   "execution_count": null,
   "id": "15ad4b7c",
   "metadata": {},
   "outputs": [],
   "source": [
    "bar_bias_chicago"
   ]
  },
  {
   "cell_type": "code",
   "execution_count": null,
   "id": "3f3b9a21",
   "metadata": {},
   "outputs": [],
   "source": [
    "bar_bias_chicago.save(myJekyllSaveDir+'Chicago_Top5_Motives.json')"
   ]
  },
  {
   "cell_type": "code",
   "execution_count": null,
   "id": "3d729f79",
   "metadata": {},
   "outputs": [],
   "source": [
    "bar_base_chicago_boroughs = alt.Chart(chicago_crimes_2021).mark_bar().encode(\n",
    "    x=alt.X('count:Q', axis=None),\n",
    "    y=alt.Y('Community:N',\n",
    "        sort=alt.EncodingSortField(field='count', order='descending', op='sum'), axis=alt.Axis(title=None)\n",
    "    ),\n",
    "    tooltip=alt.Tooltip('count:Q')\n",
    ").transform_aggregate(\n",
    "    count='count()',\n",
    "    groupby=['Community']\n",
    ").transform_window(\n",
    "    window=[{'op': 'rank', 'as': 'rank'}],\n",
    "    sort=[{'field': 'count', 'order': 'descending'}]\n",
    ").transform_filter('datum.rank <= 5'\n",
    ").properties(title=\"Top 5 Communities with most Hate Crimes in Chicago\", width=550, height=100)\n",
    "\n",
    "color_bar_chicago_boroughs = bar_base_chicago_boroughs.mark_bar().encode(\n",
    "    color=alt.Color('Complaint Year Number:O', scale=alt.Scale(scheme='teals'),legend=None),\n",
    "    opacity=alt.value(0.7)\n",
    ")\n",
    "\n",
    "bar_label_chicago_boroughs = bar_base_chicago_boroughs.mark_text(\n",
    "    align='right',\n",
    "    baseline='middle',\n",
    "    dx=18,\n",
    ").encode(\n",
    "    text='count:Q'\n",
    ")\n",
    "\n",
    "bar_bias_chicago_communities = color_bar_chicago_boroughs + bar_label_chicago_boroughs"
   ]
  },
  {
   "cell_type": "code",
   "execution_count": null,
   "id": "cd0b3d21",
   "metadata": {},
   "outputs": [],
   "source": [
    "bar_bias_chicago_communities"
   ]
  },
  {
   "cell_type": "code",
   "execution_count": null,
   "id": "05de78a6",
   "metadata": {},
   "outputs": [],
   "source": [
    "bar_bias_chicago_communities.save(myJekyllSaveDir+'Chicago_Top5_Communities.json')"
   ]
  },
  {
   "cell_type": "markdown",
   "id": "669b77f5",
   "metadata": {},
   "source": [
    "<b>Write-up</b>"
   ]
  },
  {
   "cell_type": "markdown",
   "id": "13a59030",
   "metadata": {},
   "source": [
    "In this notebook, I have developed all the visualizations published in my article <a href=\"https://szaineb.github.io/projects/final-project\">here</a>.\n",
    "\n",
    "I used public data from New York Police Department (NYPD) and Chicago Police Department (CPD) to create all these visualizations. I have uploaded all these data sets on my github repository and also added a link to them in my article.\n",
    "\n",
    "In the description here and in the article, I have interchangeably used complaints filed and hate crimes terms to represent the same thing.\n",
    "\n",
    "I have first developed 2 bar charts using the merged data from two datasets 'Police_Precincts.geojson' and 'NYPD Hate Crimes.csv'. In the first chart, I presented Top 5 bias motivations for hate crimes in NYC. In the second chart, I showed the patrol borough sorted by count of hate crime incidents. I used bar chart for as I am comparing categorical variables here.\n",
    "\n",
    "Then I have an interactive dashboard which gives an overview of the hate crime complaints filed in various NYC police precincts during the year 2021. By using this dashboard, users can see the number of complaints filed across precincts, the areas that had the least and most crimes as well as the biases that motivated hate crimes in NYC in the year 2021.\n",
    "\n",
    "This dashboard has two charts. On the left you can find the NYC map based on police precincts. The map is color coded by the number of hate crime complaints filed in 2021. I used yelloworangered color scheme for this. Lighter yellow shade shows less number of crimes while brightest red color depicts highest number of crime complaints. On the right, there is a bar chart that shows count of complaints by 'Bias Motive Description'. If we look at the overall stats, we see that majority of the crimes had anti-jewish motives followed by anti-asian.\n",
    "\n",
    "For contextual visualizations, I chose to analyze Chicago hate crimes as NYC and Chicago city are often compared for crime rates. I used 'ChicagoData.csv' that I got from Chicago Police Department's website. I created 2 bar charts using this file. The first chart displays top 5 bias motivations for hate crimes in Chicago and the second one shows top 5 communities with most incidents. Code for contextual visualizations can be fo\n",
    "\n",
    "I have tried to follow a consitent design theme. I used similar charts so that comparison is easy to understand. Similarly, I followed orange, red theme for NYC as we are talking about crimes so red seemed appropriate. I followed same color scheme for all NYC charts to ensure that it is easy for users to follow that all this information is some how related. To differentiate Chicago from NYC, I used teals color scheme for its charts.\n",
    "\n",
    "<b>Data Sources</b>\n",
    "\n",
    "Police Precincts. (n.d.). NYC Open Data. https://data.cityofnewyork.us/Public-Safety/Police-Precincts/78dh-3ptz\n",
    "\n",
    "NYPD Hate Crimes | NYC Open Data. (2022, October 19). https://data.cityofnewyork.us/Public-Safety/NYPD-Hate-Crimes/bqiq-cu78\n",
    "\n",
    "Hate Crime Dashboard. (n.d.). Chicago Police Department. https://home.chicagopolice.org/statistics-data/data-dashboards/hate-crime-dashboard/"
   ]
  }
 ],
 "metadata": {
  "kernelspec": {
   "display_name": "Python 3 (ipykernel)",
   "language": "python",
   "name": "python3"
  },
  "language_info": {
   "codemirror_mode": {
    "name": "ipython",
    "version": 3
   },
   "file_extension": ".py",
   "mimetype": "text/x-python",
   "name": "python",
   "nbconvert_exporter": "python",
   "pygments_lexer": "ipython3",
   "version": "3.7.12"
  }
 },
 "nbformat": 4,
 "nbformat_minor": 5
}
